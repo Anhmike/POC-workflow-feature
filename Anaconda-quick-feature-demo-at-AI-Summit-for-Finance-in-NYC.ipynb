{
 "cells": [
  {
   "cell_type": "markdown",
   "metadata": {
    "toc": true
   },
   "source": [
    "<h1>Table of Contents<span class=\"tocSkip\"></span></h1>\n",
    "<div class=\"toc\"><ul class=\"toc-item\"><li><span><a href=\"#simple-prefect-sklearn-workflow\" data-toc-modified-id=\"simple-prefect-sklearn-workflow-1\"><span class=\"toc-item-num\">1&nbsp;&nbsp;</span>simple prefect sklearn workflow</a></span></li><li><span><a href=\"#jupyter-cell-workflow\" data-toc-modified-id=\"jupyter-cell-workflow-2\"><span class=\"toc-item-num\">2&nbsp;&nbsp;</span>jupyter cell workflow</a></span></li><li><span><a href=\"#import_dataset\" data-toc-modified-id=\"import_dataset-3\"><span class=\"toc-item-num\">3&nbsp;&nbsp;</span>import_dataset</a></span></li><li><span><a href=\"#get_train\" data-toc-modified-id=\"get_train-4\"><span class=\"toc-item-num\">4&nbsp;&nbsp;</span>get_train</a></span></li><li><span><a href=\"#get_target\" data-toc-modified-id=\"get_target-5\"><span class=\"toc-item-num\">5&nbsp;&nbsp;</span>get_target</a></span></li><li><span><a href=\"#create_ML_Model\" data-toc-modified-id=\"create_ML_Model-6\"><span class=\"toc-item-num\">6&nbsp;&nbsp;</span>create_ML_Model</a></span></li><li><span><a href=\"#run_cross_val\" data-toc-modified-id=\"run_cross_val-7\"><span class=\"toc-item-num\">7&nbsp;&nbsp;</span>run_cross_val</a></span></li><li><span><a href=\"#plot_cross_val\" data-toc-modified-id=\"plot_cross_val-8\"><span class=\"toc-item-num\">8&nbsp;&nbsp;</span>plot_cross_val</a></span></li><li><span><a href=\"#flow\" data-toc-modified-id=\"flow-9\"><span class=\"toc-item-num\">9&nbsp;&nbsp;</span>flow</a></span></li></ul></div>"
   ]
  },
  {
   "cell_type": "markdown",
   "metadata": {},
   "source": [
    "# simple prefect sklearn workflow"
   ]
  },
  {
   "cell_type": "code",
   "execution_count": 2,
   "metadata": {
    "ExecuteTime": {
     "end_time": "2022-04-22T18:20:20.810344Z",
     "start_time": "2022-04-22T18:20:12.929656Z"
    }
   },
   "outputs": [
    {
     "name": "stdout",
     "output_type": "stream",
     "text": [
      "[2022-04-22 14:20:19-0400] INFO - prefect.FlowRunner | Beginning Flow run for 'ML'\n",
      "[2022-04-22 14:20:19-0400] INFO - prefect.TaskRunner | Task 'import_dataset': Starting task run...\n"
     ]
    },
    {
     "name": "stderr",
     "output_type": "stream",
     "text": [
      "C:\\Users\\anhmi\\AppData\\Local\\Continuum\\anaconda3\\envs\\gpu38\\lib\\site-packages\\sklearn\\utils\\deprecation.py:87: FutureWarning: Function load_boston is deprecated; `load_boston` is deprecated in 1.0 and will be removed in 1.2.\n",
      "\n",
      "    The Boston housing prices dataset has an ethical problem. You can refer to\n",
      "    the documentation of this function for further details.\n",
      "\n",
      "    The scikit-learn maintainers therefore strongly discourage the use of this\n",
      "    dataset unless the purpose of the code is to study and educate about\n",
      "    ethical issues in data science and machine learning.\n",
      "\n",
      "    In this case special case, you can fetch the dataset from the original\n",
      "    source::\n",
      "\n",
      "        import pandas as pd\n",
      "        import numpy as np\n",
      "\n",
      "\n",
      "        data_url = \"http://lib.stat.cmu.edu/datasets/boston\"\n",
      "        raw_df = pd.read_csv(data_url, sep=\"\\s+\", skiprows=22, header=None)\n",
      "        data = np.hstack([raw_df.values[::2, :], raw_df.values[1::2, :2]])\n",
      "        target = raw_df.values[1::2, 2]\n",
      "\n",
      "    Alternative datasets include the California housing dataset (i.e.\n",
      "    func:`~sklearn.datasets.fetch_california_housing`) and the Ames housing\n",
      "    dataset. You can load the datasets as follows:\n",
      "\n",
      "        from sklearn.datasets import fetch_california_housing\n",
      "        housing = fetch_california_housing()\n",
      "\n",
      "    for the California housing dataset and:\n",
      "\n",
      "        from sklearn.datasets import fetch_openml\n",
      "        housing = fetch_openml(name=\"house_prices\", as_frame=True)\n",
      "\n",
      "    for the Ames housing dataset.\n",
      "    \n",
      "  warnings.warn(msg, category=FutureWarning)\n"
     ]
    },
    {
     "name": "stdout",
     "output_type": "stream",
     "text": [
      "[2022-04-22 14:20:19-0400] INFO - prefect.TaskRunner | Task 'import_dataset': Finished task run for task with final state: 'Success'\n",
      "[2022-04-22 14:20:19-0400] INFO - prefect.TaskRunner | Task 'create_ML_Model': Starting task run...\n",
      "[2022-04-22 14:20:19-0400] INFO - prefect.TaskRunner | Task 'create_ML_Model': Finished task run for task with final state: 'Success'\n",
      "[2022-04-22 14:20:19-0400] INFO - prefect.TaskRunner | Task 'get_train': Starting task run...\n",
      "[2022-04-22 14:20:19-0400] INFO - prefect.TaskRunner | Task 'get_train': Finished task run for task with final state: 'Success'\n",
      "[2022-04-22 14:20:19-0400] INFO - prefect.TaskRunner | Task 'get_target': Starting task run...\n",
      "[2022-04-22 14:20:19-0400] INFO - prefect.TaskRunner | Task 'get_target': Finished task run for task with final state: 'Success'\n",
      "[2022-04-22 14:20:19-0400] INFO - prefect.TaskRunner | Task 'run_cross_val': Starting task run...\n",
      "[2022-04-22 14:20:20-0400] INFO - prefect.TaskRunner | Task 'run_cross_val': Finished task run for task with final state: 'Success'\n",
      "[2022-04-22 14:20:20-0400] INFO - prefect.TaskRunner | Task 'plot_cross_val': Starting task run...\n"
     ]
    },
    {
     "data": {
      "image/png": "[encoded data removed]",
      "text/plain": [
       "<Figure size 432x288 with 1 Axes>"
      ]
     },
     "metadata": {
      "needs_background": "light"
     },
     "output_type": "display_data"
    },
    {
     "name": "stdout",
     "output_type": "stream",
     "text": [
      "[2022-04-22 14:20:20-0400] INFO - prefect.TaskRunner | Task 'plot_cross_val': Finished task run for task with final state: 'Success'\n",
      "[2022-04-22 14:20:20-0400] INFO - prefect.FlowRunner | Flow run SUCCESS: all reference tasks succeeded\n"
     ]
    },
    {
     "data": {
      "image/svg+xml": [
       "<?xml version=\"1.0\" encoding=\"UTF-8\" standalone=\"no\"?>\n",
       "<!DOCTYPE svg PUBLIC \"-//W3C//DTD SVG 1.1//EN\"\n",
       " \"http://www.w3.org/Graphics/SVG/1.1/DTD/svg11.dtd\">\n",
       "<!-- Generated by graphviz version 2.50.0 (0)\n",
       " -->\n",
       "<!-- Pages: 1 -->\n",
       "<svg width=\"375pt\" height=\"305pt\"\n",
       " viewBox=\"0.00 0.00 375.39 305.00\" xmlns=\"http://www.w3.org/2000/svg\" xmlns:xlink=\"http://www.w3.org/1999/xlink\">\n",
       "<g id=\"graph0\" class=\"graph\" transform=\"scale(1 1) rotate(0) translate(4 301)\">\n",
       "<polygon fill=\"white\" stroke=\"transparent\" points=\"-4,4 -4,-301 371.39,-301 371.39,4 -4,4\"/>\n",
       "<!-- 2687120270048 -->\n",
       "<g id=\"node1\" class=\"node\">\n",
       "<title>2687120270048</title>\n",
       "<ellipse fill=\"#28a745\" fill-opacity=\"0.501961\" stroke=\"#28a745\" stroke-opacity=\"0.501961\" cx=\"46.15\" cy=\"-192\" rx=\"46.29\" ry=\"18\"/>\n",
       "<text text-anchor=\"middle\" x=\"46.15\" y=\"-188.3\" font-family=\"Times New Roman,serif\" font-size=\"14.00\">get_target</text>\n",
       "</g>\n",
       "<!-- 2687120270720 -->\n",
       "<g id=\"node2\" class=\"node\">\n",
       "<title>2687120270720</title>\n",
       "<ellipse fill=\"#28a745\" fill-opacity=\"0.501961\" stroke=\"#28a745\" stroke-opacity=\"0.501961\" cx=\"179.15\" cy=\"-105\" rx=\"59.59\" ry=\"18\"/>\n",
       "<text text-anchor=\"middle\" x=\"179.15\" y=\"-101.3\" font-family=\"Times New Roman,serif\" font-size=\"14.00\">run_cross_val</text>\n",
       "</g>\n",
       "<!-- 2687120270048&#45;&gt;2687120270720 -->\n",
       "<g id=\"edge2\" class=\"edge\">\n",
       "<title>2687120270048&#45;&gt;2687120270720</title>\n",
       "<path fill=\"none\" stroke=\"black\" d=\"M69.31,-176.19C90.56,-162.61 122.27,-142.35 146.16,-127.08\"/>\n",
       "<polygon fill=\"black\" stroke=\"black\" points=\"148.36,-129.83 154.9,-121.5 144.59,-123.93 148.36,-129.83\"/>\n",
       "<text text-anchor=\"middle\" x=\"135.65\" y=\"-144.8\" font-family=\"Times New Roman,serif\" font-size=\"14.00\">target</text>\n",
       "</g>\n",
       "<!-- 2687120271632 -->\n",
       "<g id=\"node6\" class=\"node\">\n",
       "<title>2687120271632</title>\n",
       "<ellipse fill=\"#28a745\" fill-opacity=\"0.501961\" stroke=\"#28a745\" stroke-opacity=\"0.501961\" cx=\"70.15\" cy=\"-18\" rx=\"61.99\" ry=\"18\"/>\n",
       "<text text-anchor=\"middle\" x=\"70.15\" y=\"-14.3\" font-family=\"Times New Roman,serif\" font-size=\"14.00\">plot_cross_val</text>\n",
       "</g>\n",
       "<!-- 2687120270048&#45;&gt;2687120271632 -->\n",
       "<g id=\"edge5\" class=\"edge\">\n",
       "<title>2687120270048&#45;&gt;2687120271632</title>\n",
       "<path fill=\"none\" stroke=\"black\" d=\"M48.53,-173.88C52.7,-144 61.34,-82.11 66.34,-46.27\"/>\n",
       "<polygon fill=\"black\" stroke=\"black\" points=\"69.85,-46.44 67.77,-36.05 62.92,-45.47 69.85,-46.44\"/>\n",
       "<text text-anchor=\"middle\" x=\"76.65\" y=\"-101.3\" font-family=\"Times New Roman,serif\" font-size=\"14.00\">target</text>\n",
       "</g>\n",
       "<!-- 2687120270720&#45;&gt;2687120271632 -->\n",
       "<g id=\"edge6\" class=\"edge\">\n",
       "<title>2687120270720&#45;&gt;2687120271632</title>\n",
       "<path fill=\"none\" stroke=\"black\" d=\"M158.64,-88.01C141.78,-74.86 117.67,-56.06 98.88,-41.41\"/>\n",
       "<polygon fill=\"black\" stroke=\"black\" points=\"100.96,-38.59 90.93,-35.21 96.66,-44.11 100.96,-38.59\"/>\n",
       "<text text-anchor=\"middle\" x=\"156.65\" y=\"-57.8\" font-family=\"Times New Roman,serif\" font-size=\"14.00\">predicted</text>\n",
       "</g>\n",
       "<!-- 2687120269424 -->\n",
       "<g id=\"node3\" class=\"node\">\n",
       "<title>2687120269424</title>\n",
       "<ellipse fill=\"#28a745\" fill-opacity=\"0.501961\" stroke=\"#28a745\" stroke-opacity=\"0.501961\" cx=\"185.15\" cy=\"-279\" rx=\"63.89\" ry=\"18\"/>\n",
       "<text text-anchor=\"middle\" x=\"185.15\" y=\"-275.3\" font-family=\"Times New Roman,serif\" font-size=\"14.00\">import_dataset</text>\n",
       "</g>\n",
       "<!-- 2687120269424&#45;&gt;2687120270048 -->\n",
       "<g id=\"edge1\" class=\"edge\">\n",
       "<title>2687120269424&#45;&gt;2687120270048</title>\n",
       "<path fill=\"none\" stroke=\"black\" d=\"M159.65,-262.41C136.9,-248.49 103.45,-228.04 78.75,-212.94\"/>\n",
       "<polygon fill=\"black\" stroke=\"black\" points=\"80.44,-209.87 70.09,-207.64 76.79,-215.84 80.44,-209.87\"/>\n",
       "<text text-anchor=\"middle\" x=\"142.15\" y=\"-231.8\" font-family=\"Times New Roman,serif\" font-size=\"14.00\">dataset</text>\n",
       "</g>\n",
       "<!-- 2687120269904 -->\n",
       "<g id=\"node5\" class=\"node\">\n",
       "<title>2687120269904</title>\n",
       "<ellipse fill=\"#28a745\" fill-opacity=\"0.501961\" stroke=\"#28a745\" stroke-opacity=\"0.501961\" cx=\"325.15\" cy=\"-192\" rx=\"42.49\" ry=\"18\"/>\n",
       "<text text-anchor=\"middle\" x=\"325.15\" y=\"-188.3\" font-family=\"Times New Roman,serif\" font-size=\"14.00\">get_train</text>\n",
       "</g>\n",
       "<!-- 2687120269424&#45;&gt;2687120269904 -->\n",
       "<g id=\"edge4\" class=\"edge\">\n",
       "<title>2687120269424&#45;&gt;2687120269904</title>\n",
       "<path fill=\"none\" stroke=\"black\" d=\"M210.82,-262.41C234.02,-248.32 268.26,-227.54 293.22,-212.39\"/>\n",
       "<polygon fill=\"black\" stroke=\"black\" points=\"295.22,-215.26 301.95,-207.08 291.59,-209.28 295.22,-215.26\"/>\n",
       "<text text-anchor=\"middle\" x=\"282.15\" y=\"-231.8\" font-family=\"Times New Roman,serif\" font-size=\"14.00\">dataset</text>\n",
       "</g>\n",
       "<!-- 2687120270384 -->\n",
       "<g id=\"node4\" class=\"node\">\n",
       "<title>2687120270384</title>\n",
       "<ellipse fill=\"#28a745\" fill-opacity=\"0.501961\" stroke=\"#28a745\" stroke-opacity=\"0.501961\" cx=\"187.15\" cy=\"-192\" rx=\"77.19\" ry=\"18\"/>\n",
       "<text text-anchor=\"middle\" x=\"187.15\" y=\"-188.3\" font-family=\"Times New Roman,serif\" font-size=\"14.00\">create_ML_Model</text>\n",
       "</g>\n",
       "<!-- 2687120270384&#45;&gt;2687120270720 -->\n",
       "<g id=\"edge7\" class=\"edge\">\n",
       "<title>2687120270384&#45;&gt;2687120270720</title>\n",
       "<path fill=\"none\" stroke=\"black\" d=\"M185.53,-173.8C184.43,-162.16 182.96,-146.55 181.71,-133.24\"/>\n",
       "<polygon fill=\"black\" stroke=\"black\" points=\"185.18,-132.8 180.76,-123.18 178.21,-133.46 185.18,-132.8\"/>\n",
       "<text text-anchor=\"middle\" x=\"200.65\" y=\"-144.8\" font-family=\"Times New Roman,serif\" font-size=\"14.00\">model</text>\n",
       "</g>\n",
       "<!-- 2687120269904&#45;&gt;2687120270720 -->\n",
       "<g id=\"edge3\" class=\"edge\">\n",
       "<title>2687120269904&#45;&gt;2687120270720</title>\n",
       "<path fill=\"none\" stroke=\"black\" d=\"M301.04,-176.96C277.32,-163.15 240.85,-141.92 213.98,-126.28\"/>\n",
       "<polygon fill=\"black\" stroke=\"black\" points=\"215.67,-123.21 205.26,-121.21 212.14,-129.26 215.67,-123.21\"/>\n",
       "<text text-anchor=\"middle\" x=\"272.65\" y=\"-144.8\" font-family=\"Times New Roman,serif\" font-size=\"14.00\">train</text>\n",
       "</g>\n",
       "</g>\n",
       "</svg>\n"
      ],
      "text/plain": [
       "<graphviz.graphs.Digraph at 0x271a4f03370>"
      ]
     },
     "execution_count": 2,
     "metadata": {},
     "output_type": "execute_result"
    }
   ],
   "source": [
    "from sklearn import datasets\n",
    "from sklearn.linear_model import LinearRegression\n",
    "from sklearn.model_selection import cross_val_predict\n",
    "from sklearn.metrics import r2_score\n",
    "import numpy\n",
    "import pandas\n",
    "from matplotlib import pyplot\n",
    "%matplotlib inline\n",
    "\n",
    "from prefect import Flow, Parameter, task\n",
    "\n",
    "@task\n",
    "def import_dataset():\n",
    "    dataset = datasets.load_boston()\n",
    "    return dataset\n",
    "\n",
    "@task\n",
    "def get_train(dataset):\n",
    "    train = dataset.data\n",
    "    \n",
    "    return train\n",
    "    \n",
    "@task\n",
    "def get_target(dataset):\n",
    "    target = dataset.target\n",
    "    \n",
    "    return target\n",
    "\n",
    "@task\n",
    "def create_ML_Model():\n",
    "    model = LinearRegression()\n",
    "    return model\n",
    "\n",
    "@task\n",
    "def run_cross_val(model, train, target):\n",
    "    predicted = cross_val_predict(model, train , target, cv=10)\n",
    "    return predicted\n",
    "\n",
    "@task\n",
    "def plot_cross_val(target, predicted):\n",
    "    fig, ax = pyplot.subplots()\n",
    "    ax.scatter(target, predicted, edgecolors=(0, 0, 0))\n",
    "    ax.plot([target.min(), target.max()], [target.min(), target.max()], 'k--', lw=4)\n",
    "    ax.set_xlabel('Measured')\n",
    "    ax.set_ylabel('Predicted')\n",
    "    pyplot.show()\n",
    "    \n",
    "with Flow(\"ML\") as flow:\n",
    "    dataset = import_dataset()\n",
    "    train = get_train(dataset)\n",
    "    target = get_target(dataset)\n",
    "    model = create_ML_Model()\n",
    "    predicted = run_cross_val(model, train, target)\n",
    "    plot_cross_val(target, predicted)\n",
    "    \n",
    "state_flow = flow.run()\n",
    "flow.visualize(state_flow)"
   ]
  },
  {
   "cell_type": "markdown",
   "metadata": {},
   "source": [
    "# jupyter cell workflow"
   ]
  },
  {
   "cell_type": "markdown",
   "metadata": {},
   "source": [
    "* The Pain:\n",
    "   + Jupyter cells are messy\n",
    "   + it is hard to follow \n",
    "   + if you have an error of the cell, you have to take some time to look for your error\n",
    "\n",
    "* The Pain-Removal Feature: The workflow diagram \n",
    "    + it is like a mini map \n",
    "    + it can be click and navigate back to the cell\n",
    "    + it is located on a side panel for easy navigation\n",
    "    + if you have an error on the function, you can navigate back and fix it\n",
    "    \n",
    "\n"
   ]
  },
  {
   "cell_type": "code",
   "execution_count": 3,
   "metadata": {
    "ExecuteTime": {
     "end_time": "2022-04-22T18:20:20.842308Z",
     "start_time": "2022-04-22T18:20:20.814288Z"
    }
   },
   "outputs": [],
   "source": [
    "from sklearn import datasets\n",
    "from sklearn.linear_model import LinearRegression\n",
    "from sklearn.model_selection import cross_val_predict\n",
    "from sklearn.metrics import r2_score\n",
    "import numpy\n",
    "import pandas\n",
    "from matplotlib import pyplot\n",
    "%matplotlib inline\n",
    "\n",
    "from prefect import Flow, Parameter, task"
   ]
  },
  {
   "cell_type": "markdown",
   "metadata": {},
   "source": [
    "# import_dataset"
   ]
  },
  {
   "cell_type": "code",
   "execution_count": 4,
   "metadata": {
    "ExecuteTime": {
     "end_time": "2022-04-22T18:20:20.858342Z",
     "start_time": "2022-04-22T18:20:20.846310Z"
    }
   },
   "outputs": [],
   "source": [
    "@task\n",
    "def import_dataset():\n",
    "    dataset = datasets.load_boston()\n",
    "    return dataset"
   ]
  },
  {
   "cell_type": "markdown",
   "metadata": {},
   "source": [
    "# get_train"
   ]
  },
  {
   "cell_type": "code",
   "execution_count": 5,
   "metadata": {
    "ExecuteTime": {
     "end_time": "2022-04-22T18:20:20.874294Z",
     "start_time": "2022-04-22T18:20:20.862296Z"
    }
   },
   "outputs": [],
   "source": [
    "@task\n",
    "def get_train(dataset):\n",
    "    train = dataset.data\n",
    "    \n",
    "    return train"
   ]
  },
  {
   "cell_type": "markdown",
   "metadata": {},
   "source": [
    "# get_target"
   ]
  },
  {
   "cell_type": "code",
   "execution_count": 6,
   "metadata": {
    "ExecuteTime": {
     "end_time": "2022-04-22T18:20:20.890300Z",
     "start_time": "2022-04-22T18:20:20.878301Z"
    }
   },
   "outputs": [],
   "source": [
    "@task\n",
    "def get_target(dataset):\n",
    "#     target = dataset.target\n",
    "\n",
    "    # let say you have an error here\n",
    "    # this task is turning red on prefect workflow diagram\n",
    "    # Before I had to use jupyter extension to navigate back\n",
    "    \n",
    "    # With the new feature, I can click on the task circle and get back to this cell\n",
    "    target = datast.target\n",
    "    \n",
    "    return target"
   ]
  },
  {
   "cell_type": "markdown",
   "metadata": {},
   "source": [
    "# create_ML_Model"
   ]
  },
  {
   "cell_type": "code",
   "execution_count": 7,
   "metadata": {
    "ExecuteTime": {
     "end_time": "2022-04-22T18:20:20.906337Z",
     "start_time": "2022-04-22T18:20:20.894298Z"
    }
   },
   "outputs": [],
   "source": [
    "@task\n",
    "def create_ML_Model():\n",
    "    model = LinearRegression()\n",
    "    return model"
   ]
  },
  {
   "cell_type": "markdown",
   "metadata": {},
   "source": [
    "# run_cross_val"
   ]
  },
  {
   "cell_type": "code",
   "execution_count": 8,
   "metadata": {
    "ExecuteTime": {
     "end_time": "2022-04-22T18:20:20.934347Z",
     "start_time": "2022-04-22T18:20:20.910308Z"
    }
   },
   "outputs": [],
   "source": [
    "@task\n",
    "def run_cross_val(model, train, target):\n",
    "    predicted = cross_val_predict(model, train , target, cv=10)\n",
    "    return predicted"
   ]
  },
  {
   "cell_type": "markdown",
   "metadata": {},
   "source": [
    "# plot_cross_val"
   ]
  },
  {
   "cell_type": "code",
   "execution_count": 9,
   "metadata": {
    "ExecuteTime": {
     "end_time": "2022-04-22T18:20:20.966345Z",
     "start_time": "2022-04-22T18:20:20.942295Z"
    }
   },
   "outputs": [],
   "source": [
    "@task\n",
    "def plot_cross_val(target, predicted):\n",
    "    fig, ax = pyplot.subplots()\n",
    "    ax.scatter(target, predicted, edgecolors=(0, 0, 0))\n",
    "    ax.plot([target.min(), target.max()], [target.min(), target.max()], 'k--', lw=4)\n",
    "    ax.set_xlabel('Measured')\n",
    "    ax.set_ylabel('Predicted')\n",
    "    pyplot.show()"
   ]
  },
  {
   "cell_type": "markdown",
   "metadata": {},
   "source": [
    "# flow"
   ]
  },
  {
   "cell_type": "code",
   "execution_count": 10,
   "metadata": {
    "ExecuteTime": {
     "end_time": "2022-04-22T18:20:21.490346Z",
     "start_time": "2022-04-22T18:20:20.974294Z"
    }
   },
   "outputs": [
    {
     "name": "stdout",
     "output_type": "stream",
     "text": [
      "[2022-04-22 14:20:20-0400] INFO - prefect.FlowRunner | Beginning Flow run for 'ML'\n",
      "[2022-04-22 14:20:21-0400] INFO - prefect.TaskRunner | Task 'import_dataset': Starting task run...\n",
      "[2022-04-22 14:20:21-0400] INFO - prefect.TaskRunner | Task 'import_dataset': Finished task run for task with final state: 'Success'\n",
      "[2022-04-22 14:20:21-0400] INFO - prefect.TaskRunner | Task 'create_ML_Model': Starting task run...\n",
      "[2022-04-22 14:20:21-0400] INFO - prefect.TaskRunner | Task 'create_ML_Model': Finished task run for task with final state: 'Success'\n",
      "[2022-04-22 14:20:21-0400] INFO - prefect.TaskRunner | Task 'get_target': Starting task run...\n",
      "[2022-04-22 14:20:21-0400] ERROR - prefect.TaskRunner | Task 'get_target': Exception encountered during task execution!\n",
      "Traceback (most recent call last):\n",
      "  File \"C:\\Users\\anhmi\\AppData\\Local\\Continuum\\anaconda3\\envs\\gpu38\\lib\\site-packages\\prefect\\engine\\task_runner.py\", line 880, in get_task_run_state\n",
      "    value = prefect.utilities.executors.run_task_with_timeout(\n",
      "  File \"C:\\Users\\anhmi\\AppData\\Local\\Continuum\\anaconda3\\envs\\gpu38\\lib\\site-packages\\prefect\\utilities\\executors.py\", line 468, in run_task_with_timeout\n",
      "    return task.run(*args, **kwargs)  # type: ignore\n",
      "  File \"<ipython-input-6-26b667ed337f>\", line 10, in get_target\n",
      "    target = datast.target\n",
      "NameError: name 'datast' is not defined\n",
      "[2022-04-22 14:20:21-0400] INFO - prefect.TaskRunner | Task 'get_target': Finished task run for task with final state: 'Failed'\n",
      "[2022-04-22 14:20:21-0400] INFO - prefect.TaskRunner | Task 'get_train': Starting task run...\n",
      "[2022-04-22 14:20:21-0400] INFO - prefect.TaskRunner | Task 'get_train': Finished task run for task with final state: 'Success'\n"
     ]
    },
    {
     "name": "stderr",
     "output_type": "stream",
     "text": [
      "C:\\Users\\anhmi\\AppData\\Local\\Continuum\\anaconda3\\envs\\gpu38\\lib\\site-packages\\sklearn\\utils\\deprecation.py:87: FutureWarning: Function load_boston is deprecated; `load_boston` is deprecated in 1.0 and will be removed in 1.2.\n",
      "\n",
      "    The Boston housing prices dataset has an ethical problem. You can refer to\n",
      "    the documentation of this function for further details.\n",
      "\n",
      "    The scikit-learn maintainers therefore strongly discourage the use of this\n",
      "    dataset unless the purpose of the code is to study and educate about\n",
      "    ethical issues in data science and machine learning.\n",
      "\n",
      "    In this case special case, you can fetch the dataset from the original\n",
      "    source::\n",
      "\n",
      "        import pandas as pd\n",
      "        import numpy as np\n",
      "\n",
      "\n",
      "        data_url = \"http://lib.stat.cmu.edu/datasets/boston\"\n",
      "        raw_df = pd.read_csv(data_url, sep=\"\\s+\", skiprows=22, header=None)\n",
      "        data = np.hstack([raw_df.values[::2, :], raw_df.values[1::2, :2]])\n",
      "        target = raw_df.values[1::2, 2]\n",
      "\n",
      "    Alternative datasets include the California housing dataset (i.e.\n",
      "    func:`~sklearn.datasets.fetch_california_housing`) and the Ames housing\n",
      "    dataset. You can load the datasets as follows:\n",
      "\n",
      "        from sklearn.datasets import fetch_california_housing\n",
      "        housing = fetch_california_housing()\n",
      "\n",
      "    for the California housing dataset and:\n",
      "\n",
      "        from sklearn.datasets import fetch_openml\n",
      "        housing = fetch_openml(name=\"house_prices\", as_frame=True)\n",
      "\n",
      "    for the Ames housing dataset.\n",
      "    \n",
      "  warnings.warn(msg, category=FutureWarning)\n"
     ]
    },
    {
     "name": "stdout",
     "output_type": "stream",
     "text": [
      "[2022-04-22 14:20:21-0400] INFO - prefect.TaskRunner | Task 'run_cross_val': Starting task run...\n",
      "[2022-04-22 14:20:21-0400] INFO - prefect.TaskRunner | Task 'run_cross_val': Finished task run for task with final state: 'TriggerFailed'\n",
      "[2022-04-22 14:20:21-0400] INFO - prefect.TaskRunner | Task 'plot_cross_val': Starting task run...\n",
      "[2022-04-22 14:20:21-0400] INFO - prefect.TaskRunner | Task 'plot_cross_val': Finished task run for task with final state: 'TriggerFailed'\n",
      "[2022-04-22 14:20:21-0400] INFO - prefect.FlowRunner | Flow run FAILED: some reference tasks failed.\n"
     ]
    },
    {
     "data": {
      "image/svg+xml": [
       "<?xml version=\"1.0\" encoding=\"UTF-8\" standalone=\"no\"?>\n",
       "<!DOCTYPE svg PUBLIC \"-//W3C//DTD SVG 1.1//EN\"\n",
       " \"http://www.w3.org/Graphics/SVG/1.1/DTD/svg11.dtd\">\n",
       "<!-- Generated by graphviz version 2.50.0 (0)\n",
       " -->\n",
       "<!-- Pages: 1 -->\n",
       "<svg width=\"376pt\" height=\"305pt\"\n",
       " viewBox=\"0.00 0.00 376.09 305.00\" xmlns=\"http://www.w3.org/2000/svg\" xmlns:xlink=\"http://www.w3.org/1999/xlink\">\n",
       "<g id=\"graph0\" class=\"graph\" transform=\"scale(1 1) rotate(0) translate(4 301)\">\n",
       "<polygon fill=\"white\" stroke=\"transparent\" points=\"-4,4 -4,-301 372.09,-301 372.09,4 -4,4\"/>\n",
       "<!-- 2687120271104 -->\n",
       "<g id=\"node1\" class=\"node\">\n",
       "<title>2687120271104</title>\n",
       "<ellipse fill=\"#eb0000\" fill-opacity=\"0.501961\" stroke=\"#eb0000\" stroke-opacity=\"0.501961\" cx=\"46.74\" cy=\"-192\" rx=\"46.29\" ry=\"18\"/>\n",
       "<text text-anchor=\"middle\" x=\"46.74\" y=\"-188.3\" font-family=\"Times New Roman,serif\" font-size=\"14.00\">get_target</text>\n",
       "</g>\n",
       "<!-- 2687012655840 -->\n",
       "<g id=\"node2\" class=\"node\">\n",
       "<title>2687012655840</title>\n",
       "<ellipse fill=\"#ff5131\" fill-opacity=\"0.501961\" stroke=\"#ff5131\" stroke-opacity=\"0.501961\" cx=\"154.74\" cy=\"-105\" rx=\"59.59\" ry=\"18\"/>\n",
       "<text text-anchor=\"middle\" x=\"154.74\" y=\"-101.3\" font-family=\"Times New Roman,serif\" font-size=\"14.00\">run_cross_val</text>\n",
       "</g>\n",
       "<!-- 2687120271104&#45;&gt;2687012655840 -->\n",
       "<g id=\"edge1\" class=\"edge\">\n",
       "<title>2687120271104&#45;&gt;2687012655840</title>\n",
       "<path fill=\"none\" stroke=\"black\" d=\"M66.3,-175.61C83.03,-162.44 107.34,-143.31 126.24,-128.44\"/>\n",
       "<polygon fill=\"black\" stroke=\"black\" points=\"128.54,-131.08 134.23,-122.15 124.21,-125.58 128.54,-131.08\"/>\n",
       "<text text-anchor=\"middle\" x=\"123.24\" y=\"-144.8\" font-family=\"Times New Roman,serif\" font-size=\"14.00\">target</text>\n",
       "</g>\n",
       "<!-- 2687012656320 -->\n",
       "<g id=\"node4\" class=\"node\">\n",
       "<title>2687012656320</title>\n",
       "<ellipse fill=\"#ff5131\" fill-opacity=\"0.501961\" stroke=\"#ff5131\" stroke-opacity=\"0.501961\" cx=\"61.74\" cy=\"-18\" rx=\"61.99\" ry=\"18\"/>\n",
       "<text text-anchor=\"middle\" x=\"61.74\" y=\"-14.3\" font-family=\"Times New Roman,serif\" font-size=\"14.00\">plot_cross_val</text>\n",
       "</g>\n",
       "<!-- 2687120271104&#45;&gt;2687012656320 -->\n",
       "<g id=\"edge7\" class=\"edge\">\n",
       "<title>2687120271104&#45;&gt;2687012656320</title>\n",
       "<path fill=\"none\" stroke=\"black\" d=\"M47.94,-173.69C49.4,-153.04 52,-117.48 54.74,-87 55.95,-73.56 57.47,-58.65 58.78,-46.22\"/>\n",
       "<polygon fill=\"black\" stroke=\"black\" points=\"62.29,-46.35 59.87,-36.04 55.33,-45.61 62.29,-46.35\"/>\n",
       "<text text-anchor=\"middle\" x=\"70.24\" y=\"-101.3\" font-family=\"Times New Roman,serif\" font-size=\"14.00\">target</text>\n",
       "</g>\n",
       "<!-- 2687012655840&#45;&gt;2687012656320 -->\n",
       "<g id=\"edge5\" class=\"edge\">\n",
       "<title>2687012655840&#45;&gt;2687012656320</title>\n",
       "<path fill=\"none\" stroke=\"black\" d=\"M136.81,-87.61C122.79,-74.79 103.11,-56.8 87.41,-42.46\"/>\n",
       "<polygon fill=\"black\" stroke=\"black\" points=\"89.36,-39.5 79.62,-35.34 84.64,-44.67 89.36,-39.5\"/>\n",
       "<text text-anchor=\"middle\" x=\"140.24\" y=\"-57.8\" font-family=\"Times New Roman,serif\" font-size=\"14.00\">predicted</text>\n",
       "</g>\n",
       "<!-- 2687120272064 -->\n",
       "<g id=\"node3\" class=\"node\">\n",
       "<title>2687120272064</title>\n",
       "<ellipse fill=\"#28a745\" fill-opacity=\"0.501961\" stroke=\"#28a745\" stroke-opacity=\"0.501961\" cx=\"152.74\" cy=\"-192\" rx=\"42.49\" ry=\"18\"/>\n",
       "<text text-anchor=\"middle\" x=\"152.74\" y=\"-188.3\" font-family=\"Times New Roman,serif\" font-size=\"14.00\">get_train</text>\n",
       "</g>\n",
       "<!-- 2687120272064&#45;&gt;2687012655840 -->\n",
       "<g id=\"edge4\" class=\"edge\">\n",
       "<title>2687120272064&#45;&gt;2687012655840</title>\n",
       "<path fill=\"none\" stroke=\"black\" d=\"M153.15,-173.8C153.42,-162.16 153.79,-146.55 154.1,-133.24\"/>\n",
       "<polygon fill=\"black\" stroke=\"black\" points=\"157.6,-133.26 154.34,-123.18 150.61,-133.09 157.6,-133.26\"/>\n",
       "<text text-anchor=\"middle\" x=\"167.24\" y=\"-144.8\" font-family=\"Times New Roman,serif\" font-size=\"14.00\">train</text>\n",
       "</g>\n",
       "<!-- 2687120271056 -->\n",
       "<g id=\"node5\" class=\"node\">\n",
       "<title>2687120271056</title>\n",
       "<ellipse fill=\"#28a745\" fill-opacity=\"0.501961\" stroke=\"#28a745\" stroke-opacity=\"0.501961\" cx=\"98.74\" cy=\"-279\" rx=\"63.89\" ry=\"18\"/>\n",
       "<text text-anchor=\"middle\" x=\"98.74\" y=\"-275.3\" font-family=\"Times New Roman,serif\" font-size=\"14.00\">import_dataset</text>\n",
       "</g>\n",
       "<!-- 2687120271056&#45;&gt;2687120271104 -->\n",
       "<g id=\"edge3\" class=\"edge\">\n",
       "<title>2687120271056&#45;&gt;2687120271104</title>\n",
       "<path fill=\"none\" stroke=\"black\" d=\"M88.47,-261.21C80.99,-248.98 70.73,-232.21 62.26,-218.36\"/>\n",
       "<polygon fill=\"black\" stroke=\"black\" points=\"65.2,-216.46 57,-209.76 59.23,-220.12 65.2,-216.46\"/>\n",
       "<text text-anchor=\"middle\" x=\"95.74\" y=\"-231.8\" font-family=\"Times New Roman,serif\" font-size=\"14.00\">dataset</text>\n",
       "</g>\n",
       "<!-- 2687120271056&#45;&gt;2687120272064 -->\n",
       "<g id=\"edge2\" class=\"edge\">\n",
       "<title>2687120271056&#45;&gt;2687120272064</title>\n",
       "<path fill=\"none\" stroke=\"black\" d=\"M109.41,-261.21C117.23,-248.9 127.97,-232 136.8,-218.09\"/>\n",
       "<polygon fill=\"black\" stroke=\"black\" points=\"139.87,-219.79 142.28,-209.47 133.97,-216.03 139.87,-219.79\"/>\n",
       "<text text-anchor=\"middle\" x=\"148.74\" y=\"-231.8\" font-family=\"Times New Roman,serif\" font-size=\"14.00\">dataset</text>\n",
       "</g>\n",
       "<!-- 2687012656272 -->\n",
       "<g id=\"node6\" class=\"node\">\n",
       "<title>2687012656272</title>\n",
       "<ellipse fill=\"#28a745\" fill-opacity=\"0.501961\" stroke=\"#28a745\" stroke-opacity=\"0.501961\" cx=\"290.74\" cy=\"-192\" rx=\"77.19\" ry=\"18\"/>\n",
       "<text text-anchor=\"middle\" x=\"290.74\" y=\"-188.3\" font-family=\"Times New Roman,serif\" font-size=\"14.00\">create_ML_Model</text>\n",
       "</g>\n",
       "<!-- 2687012656272&#45;&gt;2687012655840 -->\n",
       "<g id=\"edge6\" class=\"edge\">\n",
       "<title>2687012656272&#45;&gt;2687012655840</title>\n",
       "<path fill=\"none\" stroke=\"black\" d=\"M265.16,-175.01C243.47,-161.45 212.18,-141.9 188.44,-127.06\"/>\n",
       "<polygon fill=\"black\" stroke=\"black\" points=\"190.09,-123.96 179.75,-121.63 186.38,-129.9 190.09,-123.96\"/>\n",
       "<text text-anchor=\"middle\" x=\"249.24\" y=\"-144.8\" font-family=\"Times New Roman,serif\" font-size=\"14.00\">model</text>\n",
       "</g>\n",
       "</g>\n",
       "</svg>\n"
      ],
      "text/plain": [
       "<graphviz.graphs.Digraph at 0x2719e6c9c40>"
      ]
     },
     "execution_count": 10,
     "metadata": {},
     "output_type": "execute_result"
    }
   ],
   "source": [
    "with Flow(\"ML\") as flow:\n",
    "    dataset = import_dataset()\n",
    "    train = get_train(dataset)\n",
    "    target = get_target(dataset)\n",
    "    model = create_ML_Model()\n",
    "    predicted = run_cross_val(model, train, target)\n",
    "    plot_cross_val(target, predicted)\n",
    "    \n",
    "state_flow = flow.run()\n",
    "flow.visualize(state_flow)"
   ]
  },
  {
   "cell_type": "code",
   "execution_count": null,
   "metadata": {},
   "outputs": [],
   "source": []
  }
 ],
 "metadata": {
  "kernelspec": {
   "display_name": "Python 3",
   "language": "python",
   "name": "python3"
  },
  "language_info": {
   "codemirror_mode": {
    "name": "ipython",
    "version": 3
   },
   "file_extension": ".py",
   "mimetype": "text/x-python",
   "name": "python",
   "nbconvert_exporter": "python",
   "pygments_lexer": "ipython3",
   "version": "3.8.11"
  },
  "toc": {
   "base_numbering": 1,
   "nav_menu": {},
   "number_sections": true,
   "sideBar": true,
   "skip_h1_title": false,
   "title_cell": "Table of Contents",
   "title_sidebar": "Contents",
   "toc_cell": true,
   "toc_position": {
    "height": "calc(100% - 180px)",
    "left": "10px",
    "top": "150px",
    "width": "237.792px"
   },
   "toc_section_display": true,
   "toc_window_display": true
  },
  "varInspector": {
   "cols": {
    "lenName": 16,
    "lenType": 16,
    "lenVar": 40
   },
   "kernels_config": {
    "python": {
     "delete_cmd_postfix": "",
     "delete_cmd_prefix": "del ",
     "library": "var_list.py",
     "varRefreshCmd": "print(var_dic_list())"
    },
    "r": {
     "delete_cmd_postfix": ") ",
     "delete_cmd_prefix": "rm(",
     "library": "var_list.r",
     "varRefreshCmd": "cat(var_dic_list()) "
    }
   },
   "types_to_exclude": [
    "module",
    "function",
    "builtin_function_or_method",
    "instance",
    "_Feature"
   ],
   "window_display": false
  }
 },
 "nbformat": 4,
 "nbformat_minor": 4
}
